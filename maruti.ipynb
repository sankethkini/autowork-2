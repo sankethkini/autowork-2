{
 "cells": [
  {
   "cell_type": "code",
   "execution_count": 2,
   "metadata": {},
   "outputs": [],
   "source": [
    "import pandas as pd"
   ]
  },
  {
   "cell_type": "code",
   "execution_count": 3,
   "metadata": {},
   "outputs": [],
   "source": [
    "mr=pd.read_csv('maruti.csv')"
   ]
  },
  {
   "cell_type": "code",
   "execution_count": 4,
   "metadata": {},
   "outputs": [
    {
     "data": {
      "text/plain": [
       "array([ 998, 1248, 1462, 1061,  796, 1373, 1197, 1298], dtype=int64)"
      ]
     },
     "execution_count": 4,
     "metadata": {},
     "output_type": "execute_result"
    }
   ],
   "source": [
    "mr['Engine'].unique()"
   ]
  },
  {
   "cell_type": "code",
   "execution_count": 5,
   "metadata": {},
   "outputs": [
    {
     "data": {
      "text/plain": [
       "array(['CNG', 'Diesel', 'Petrol', 'LPG'], dtype=object)"
      ]
     },
     "execution_count": 5,
     "metadata": {},
     "output_type": "execute_result"
    }
   ],
   "source": [
    "mr['Fuel_Type'].unique()"
   ]
  },
  {
   "cell_type": "code",
   "execution_count": 6,
   "metadata": {},
   "outputs": [],
   "source": [
    "mr['Fuel_Type']=mr['Fuel_Type'].replace({'CNG':1,'Diesel':2,'Petrol':3,'LPG':4})"
   ]
  },
  {
   "cell_type": "code",
   "execution_count": 7,
   "metadata": {},
   "outputs": [
    {
     "data": {
      "text/plain": [
       "array(['Manual', 'Automatic'], dtype=object)"
      ]
     },
     "execution_count": 7,
     "metadata": {},
     "output_type": "execute_result"
    }
   ],
   "source": [
    "mr['Transmission'].unique()"
   ]
  },
  {
   "cell_type": "code",
   "execution_count": 8,
   "metadata": {},
   "outputs": [],
   "source": [
    "mr['Transmission']=mr['Transmission'].replace({'Manual':1,'Automatic':2})"
   ]
  },
  {
   "cell_type": "code",
   "execution_count": 9,
   "metadata": {},
   "outputs": [
    {
     "data": {
      "text/plain": [
       "array(['First', 'Second', 'Third', 'Fourth & Above'], dtype=object)"
      ]
     },
     "execution_count": 9,
     "metadata": {},
     "output_type": "execute_result"
    }
   ],
   "source": [
    "mr['Owner_Type'].unique()"
   ]
  },
  {
   "cell_type": "code",
   "execution_count": 10,
   "metadata": {},
   "outputs": [],
   "source": [
    "mr['Owner_Type']=mr['Owner_Type'].replace({'First':1,'Second':2,'Third':3,'Fourth & Above':4})"
   ]
  },
  {
   "cell_type": "code",
   "execution_count": 11,
   "metadata": {},
   "outputs": [
    {
     "data": {
      "text/plain": [
       "array(['Wagon', 'Ertiga', 'Ciaz', 'Swift', 'Alto'], dtype=object)"
      ]
     },
     "execution_count": 11,
     "metadata": {},
     "output_type": "execute_result"
    }
   ],
   "source": [
    "mr['model'].unique()"
   ]
  },
  {
   "cell_type": "code",
   "execution_count": 12,
   "metadata": {},
   "outputs": [],
   "source": [
    "mr['model']=mr['model'].replace({'Wagon':1,'Ertiga':2,'Ciaz':3,'Swift':4,'Alto':5})"
   ]
  },
  {
   "cell_type": "code",
   "execution_count": 13,
   "metadata": {},
   "outputs": [],
   "source": [
    "mr=mr.drop(['Name','make'],axis=1)"
   ]
  },
  {
   "cell_type": "code",
   "execution_count": 14,
   "metadata": {},
   "outputs": [],
   "source": [
    "mrl=mr[mr['New_Price']<8.00]"
   ]
  },
  {
   "cell_type": "code",
   "execution_count": 15,
   "metadata": {},
   "outputs": [],
   "source": [
    "mrh=mr[mr['New_Price']>=8.0]"
   ]
  },
  {
   "cell_type": "code",
   "execution_count": 16,
   "metadata": {},
   "outputs": [],
   "source": [
    "X=mrl.drop(['Price'],axis=1).values\n",
    "y=mrl['Price'].values"
   ]
  },
  {
   "cell_type": "code",
   "execution_count": 17,
   "metadata": {},
   "outputs": [],
   "source": [
    "from sklearn.model_selection import train_test_split\n",
    "X_train, X_test, y_train, y_test = train_test_split(X, y, test_size=0.25, random_state=42)"
   ]
  },
  {
   "cell_type": "code",
   "execution_count": 18,
   "metadata": {},
   "outputs": [],
   "source": [
    "from sklearn.linear_model import LinearRegression"
   ]
  },
  {
   "cell_type": "code",
   "execution_count": 19,
   "metadata": {},
   "outputs": [],
   "source": [
    "model1=LinearRegression()\n",
    "model2=LinearRegression()"
   ]
  },
  {
   "cell_type": "code",
   "execution_count": 22,
   "metadata": {},
   "outputs": [],
   "source": [
    "model1.fit(X_train,y_train)\n",
    "y_pred=model1.predict(X_test)"
   ]
  },
  {
   "cell_type": "code",
   "execution_count": 23,
   "metadata": {},
   "outputs": [
    {
     "ename": "NameError",
     "evalue": "name 'np' is not defined",
     "output_type": "error",
     "traceback": [
      "\u001b[1;31m---------------------------------------------------------------------------\u001b[0m",
      "\u001b[1;31mNameError\u001b[0m                                 Traceback (most recent call last)",
      "\u001b[1;32m<ipython-input-23-0f85aa6c2b49>\u001b[0m in \u001b[0;36m<module>\u001b[1;34m\u001b[0m\n\u001b[1;32m----> 1\u001b[1;33m \u001b[0mnp\u001b[0m\u001b[1;33m.\u001b[0m\u001b[0mmean\u001b[0m\u001b[1;33m(\u001b[0m\u001b[1;33m(\u001b[0m\u001b[0my_pred\u001b[0m\u001b[1;33m-\u001b[0m\u001b[0my_test\u001b[0m\u001b[1;33m)\u001b[0m\u001b[1;33m**\u001b[0m\u001b[1;36m2\u001b[0m\u001b[1;33m)\u001b[0m\u001b[1;33m**\u001b[0m\u001b[1;36m0.5\u001b[0m\u001b[1;33m\u001b[0m\u001b[1;33m\u001b[0m\u001b[0m\n\u001b[0m",
      "\u001b[1;31mNameError\u001b[0m: name 'np' is not defined"
     ]
    }
   ],
   "source": [
    "np.mean((y_pred-y_test)**2)**0.5"
   ]
  },
  {
   "cell_type": "code",
   "execution_count": null,
   "metadata": {},
   "outputs": [],
   "source": [
    "X=mrh.drop(['Price'],axis=1).values\n",
    "y=mrh['Price'].values"
   ]
  },
  {
   "cell_type": "code",
   "execution_count": null,
   "metadata": {},
   "outputs": [],
   "source": [
    "X_train, X_test, y_train, y_test = train_test_split(X, y, test_size=0.25, random_state=42)"
   ]
  },
  {
   "cell_type": "code",
   "execution_count": null,
   "metadata": {},
   "outputs": [],
   "source": [
    "model2.fit(X_train,y_train)\n",
    "y_pred=model.predict(X_test)\n",
    "np.mean((y_pred-y_test)**2)**0.5"
   ]
  },
  {
   "cell_type": "code",
   "execution_count": 24,
   "metadata": {},
   "outputs": [],
   "source": [
    "import lime\n",
    "import lime.lime_tabular"
   ]
  },
  {
   "cell_type": "code",
   "execution_count": null,
   "metadata": {},
   "outputs": [],
   "source": [
    "inp=np.array([1.000e+00,2.011e+03, 4.000e+04, 2.000e+00, 1.000e+00, 1.000e+00, 2.200e+01,\n",
    " 1.000e+00, 7.000e+01, 5.000e+00, 7.500e+00, 2.000e+00]).reshape(1,-1)"
   ]
  },
  {
   "cell_type": "code",
   "execution_count": 25,
   "metadata": {},
   "outputs": [],
   "source": [
    "colums=mrl.columns.tolist()\n",
    "explainer = lime.lime_tabular.LimeTabularExplainer(X_train, feature_names=colums, class_names=['Price'], categorical_features=['Engine','model','Year','Power','Location','Owner_Type','Transmission'], verbose=True, mode='regression')"
   ]
  },
  {
   "cell_type": "code",
   "execution_count": 26,
   "metadata": {},
   "outputs": [
    {
     "name": "stdout",
     "output_type": "stream",
     "text": [
      "Intercept 3.8960832391176945\n",
      "Prediction_local [-0.24291855]\n",
      "Right: 0.8566941802878887\n"
     ]
    }
   ],
   "source": [
    "i = 55\n",
    "exp = explainer.explain_instance(X_test[i], model1.predict, num_features=12)"
   ]
  },
  {
   "cell_type": "code",
   "execution_count": null,
   "metadata": {},
   "outputs": [],
   "source": [
    "exp.show_in_notebook(show_table=True)"
   ]
  },
  {
   "cell_type": "code",
   "execution_count": 186,
   "metadata": {},
   "outputs": [
    {
     "data": {
      "text/plain": [
       "[('Transmission <= 1.00', -1.4909102557119676),\n",
       " ('Year <= 2010.00', -1.353044099933559),\n",
       " ('Engine <= 796.00', -1.0254550411343266),\n",
       " ('1.00 < Price <= 5.00', -0.5040419821055184),\n",
       " ('Owner_Type <= 1.00', 0.2003567720039944),\n",
       " ('New_Price <= 4.45', -0.14029282980942565),\n",
       " ('4.00 < Location <= 6.00', 0.06020780661136184),\n",
       " ('29947.50 < Kilometers_Driven <= 50000.00', 0.03971139430438264),\n",
       " ('Fuel_Type <= 3.00', -0.00994532793976417),\n",
       " ('18.90 < Mileage <= 20.92', 0.0029149036074605757),\n",
       " ('Power <= 47.30', -0.0011718134635561096),\n",
       " ('Seats <= 5.00', 0.0)]"
      ]
     },
     "execution_count": 186,
     "metadata": {},
     "output_type": "execute_result"
    }
   ],
   "source": [
    "exp.as_list()"
   ]
  },
  {
   "cell_type": "code",
   "execution_count": 189,
   "metadata": {},
   "outputs": [
    {
     "data": {
      "text/plain": [
       "LinearRegression()"
      ]
     },
     "execution_count": 189,
     "metadata": {},
     "output_type": "execute_result"
    }
   ],
   "source": [
    "model1.fit(X,y)"
   ]
  },
  {
   "cell_type": "code",
   "execution_count": 193,
   "metadata": {},
   "outputs": [
    {
     "data": {
      "text/plain": [
       "LinearRegression()"
      ]
     },
     "execution_count": 193,
     "metadata": {},
     "output_type": "execute_result"
    }
   ],
   "source": [
    "model2.fit(X,y)"
   ]
  },
  {
   "cell_type": "code",
   "execution_count": 195,
   "metadata": {},
   "outputs": [],
   "source": [
    "import pickle"
   ]
  },
  {
   "cell_type": "code",
   "execution_count": 196,
   "metadata": {},
   "outputs": [],
   "source": [
    "pickle.dump(model1,open(\"marutil.pickel\",\"wb\"))"
   ]
  },
  {
   "cell_type": "code",
   "execution_count": 197,
   "metadata": {},
   "outputs": [],
   "source": [
    "pickle.dump(model2,open(\"marutih.pickel\",\"wb\"))"
   ]
  },
  {
   "cell_type": "code",
   "execution_count": 201,
   "metadata": {},
   "outputs": [],
   "source": [
    "colums=mrl.columns.tolist()\n",
    "explainer = lime.lime_tabular.LimeTabularExplainer(X, feature_names=colums, class_names=['Price'], categorical_features=['Engine','model','Year','Location','Owner_Type','Transmission','Fuel_Type'], verbose=True, mode='regression')"
   ]
  },
  {
   "cell_type": "code",
   "execution_count": 205,
   "metadata": {},
   "outputs": [],
   "source": [
    "colums=mrh.columns.tolist()\n",
    "explainer1 = lime.lime_tabular.LimeTabularExplainer(X, feature_names=colums, class_names=['Price'], categorical_features=['Engine','model','Year','Location','Owner_Type','Transmission','Fuel_Type'], verbose=True, mode='regression')"
   ]
  },
  {
   "cell_type": "code",
   "execution_count": 202,
   "metadata": {},
   "outputs": [],
   "source": [
    "import dill\n",
    "with open('marutillime', 'wb') as f:\n",
    "    dill.dump(explainer,f)"
   ]
  },
  {
   "cell_type": "code",
   "execution_count": 206,
   "metadata": {},
   "outputs": [],
   "source": [
    "import dill\n",
    "with open('marutihlime', 'wb') as f:\n",
    "    dill.dump(explainer1,f)"
   ]
  },
  {
   "cell_type": "code",
   "execution_count": 27,
   "metadata": {},
   "outputs": [
    {
     "data": {
      "text/plain": [
       "[('Transmission <= 1.00', -1.486928008436787),\n",
       " ('Year <= 2010.00', -1.3778095424404762),\n",
       " ('Engine <= 796.00', -1.0449820328442552),\n",
       " ('1.00 < Price <= 5.00', -0.4920898019888688),\n",
       " ('Owner_Type <= 1.00', 0.21297209892839059),\n",
       " ('New_Price <= 4.45', -0.1631744356835951),\n",
       " ('Fuel_Type <= 3.00', 0.13441501556104657),\n",
       " ('29947.50 < Kilometers_Driven <= 50000.00', 0.055328499584530996),\n",
       " ('4.00 < Location <= 6.00', 0.04026053492473405),\n",
       " ('18.90 < Mileage <= 20.92', -0.022675630448376064),\n",
       " ('Power <= 47.30', 0.005681510994054011),\n",
       " ('Seats <= 5.00', 0.0)]"
      ]
     },
     "execution_count": 27,
     "metadata": {},
     "output_type": "execute_result"
    }
   ],
   "source": [
    "exp.as_list()"
   ]
  },
  {
   "cell_type": "code",
   "execution_count": 29,
   "metadata": {},
   "outputs": [],
   "source": [
    "d=dict(exp.as_list())"
   ]
  },
  {
   "cell_type": "code",
   "execution_count": 30,
   "metadata": {},
   "outputs": [
    {
     "data": {
      "text/plain": [
       "{'Transmission <= 1.00': -1.486928008436787,\n",
       " 'Year <= 2010.00': -1.3778095424404762,\n",
       " 'Engine <= 796.00': -1.0449820328442552,\n",
       " '1.00 < Price <= 5.00': -0.4920898019888688,\n",
       " 'Owner_Type <= 1.00': 0.21297209892839059,\n",
       " 'New_Price <= 4.45': -0.1631744356835951,\n",
       " 'Fuel_Type <= 3.00': 0.13441501556104657,\n",
       " '29947.50 < Kilometers_Driven <= 50000.00': 0.055328499584530996,\n",
       " '4.00 < Location <= 6.00': 0.04026053492473405,\n",
       " '18.90 < Mileage <= 20.92': -0.022675630448376064,\n",
       " 'Power <= 47.30': 0.005681510994054011,\n",
       " 'Seats <= 5.00': 0.0}"
      ]
     },
     "execution_count": 30,
     "metadata": {},
     "output_type": "execute_result"
    }
   ],
   "source": [
    "d"
   ]
  },
  {
   "cell_type": "code",
   "execution_count": 31,
   "metadata": {},
   "outputs": [],
   "source": [
    "keys=list(d)"
   ]
  },
  {
   "cell_type": "code",
   "execution_count": 32,
   "metadata": {},
   "outputs": [],
   "source": [
    "vals=list(d.values())"
   ]
  },
  {
   "cell_type": "code",
   "execution_count": 33,
   "metadata": {},
   "outputs": [
    {
     "data": {
      "text/plain": [
       "[-1.486928008436787,\n",
       " -1.3778095424404762,\n",
       " -1.0449820328442552,\n",
       " -0.4920898019888688,\n",
       " 0.21297209892839059,\n",
       " -0.1631744356835951,\n",
       " 0.13441501556104657,\n",
       " 0.055328499584530996,\n",
       " 0.04026053492473405,\n",
       " -0.022675630448376064,\n",
       " 0.005681510994054011,\n",
       " 0.0]"
      ]
     },
     "execution_count": 33,
     "metadata": {},
     "output_type": "execute_result"
    }
   ],
   "source": [
    "vals"
   ]
  },
  {
   "cell_type": "code",
   "execution_count": 34,
   "metadata": {},
   "outputs": [],
   "source": [
    "ds={'Fuel_Type':{1:'petrol',2:'diesel',3:'LPG'},\n",
    "       'Location':{0:'Ahamadabad',1:'Bengaluru',2:'Chennai',3:'Coimbatore',4:'Delhi',5:'Jaipur',6:'Kochi',7:'Kolkata',8:'Mumbai',9:'Pune'},\n",
    "       'Owner_Type':{0:'first',1:'second',3:'third',4:'fourth and above'},\n",
    "       'Transmission':{1:'Manual',2:'Automatic'}}"
   ]
  },
  {
   "cell_type": "code",
   "execution_count": 36,
   "metadata": {},
   "outputs": [
    {
     "data": {
      "text/plain": [
       "'petrol'"
      ]
     },
     "execution_count": 36,
     "metadata": {},
     "output_type": "execute_result"
    }
   ],
   "source": [
    "ds['Fuel_Type'][1]"
   ]
  },
  {
   "cell_type": "code",
   "execution_count": 38,
   "metadata": {},
   "outputs": [
    {
     "data": {
      "text/plain": [
       "['Transmission <= 1.00',\n",
       " 'Year <= 2010.00',\n",
       " 'Engine <= 796.00',\n",
       " '1.00 < Price <= 5.00',\n",
       " 'Owner_Type <= 1.00',\n",
       " 'New_Price <= 4.45',\n",
       " 'Fuel_Type <= 3.00',\n",
       " '29947.50 < Kilometers_Driven <= 50000.00',\n",
       " '4.00 < Location <= 6.00',\n",
       " '18.90 < Mileage <= 20.92',\n",
       " 'Power <= 47.30',\n",
       " 'Seats <= 5.00']"
      ]
     },
     "execution_count": 38,
     "metadata": {},
     "output_type": "execute_result"
    }
   ],
   "source": [
    "keys"
   ]
  },
  {
   "cell_type": "code",
   "execution_count": 58,
   "metadata": {},
   "outputs": [],
   "source": [
    "res={}"
   ]
  },
  {
   "cell_type": "code",
   "execution_count": 59,
   "metadata": {},
   "outputs": [],
   "source": [
    "for i in range(len(keys)):\n",
    "    arr=keys[i].split(' ')\n",
    "    found=False\n",
    "    for j in arr:\n",
    "        if j in ds.keys():\n",
    "            res[j+' '+ds[j][1]]=vals[i]\n",
    "            found=True\n",
    "    if not found:\n",
    "        res[keys[i]]=vals[i]     "
   ]
  },
  {
   "cell_type": "code",
   "execution_count": 60,
   "metadata": {},
   "outputs": [
    {
     "data": {
      "text/plain": [
       "{'Transmission Manual': -1.486928008436787,\n",
       " 'Year <= 2010.00': -1.3778095424404762,\n",
       " 'Engine <= 796.00': -1.0449820328442552,\n",
       " '1.00 < Price <= 5.00': -0.4920898019888688,\n",
       " 'Owner_Type second': 0.21297209892839059,\n",
       " 'New_Price <= 4.45': -0.1631744356835951,\n",
       " 'Fuel_Type petrol': 0.13441501556104657,\n",
       " '29947.50 < Kilometers_Driven <= 50000.00': 0.055328499584530996,\n",
       " 'Location Bengaluru': 0.04026053492473405,\n",
       " '18.90 < Mileage <= 20.92': -0.022675630448376064,\n",
       " 'Power <= 47.30': 0.005681510994054011,\n",
       " 'Seats <= 5.00': 0.0}"
      ]
     },
     "execution_count": 60,
     "metadata": {},
     "output_type": "execute_result"
    }
   ],
   "source": [
    "res"
   ]
  },
  {
   "cell_type": "code",
   "execution_count": null,
   "metadata": {},
   "outputs": [],
   "source": []
  }
 ],
 "metadata": {
  "kernelspec": {
   "display_name": "Python 3",
   "language": "python",
   "name": "python3"
  },
  "language_info": {
   "codemirror_mode": {
    "name": "ipython",
    "version": 3
   },
   "file_extension": ".py",
   "mimetype": "text/x-python",
   "name": "python",
   "nbconvert_exporter": "python",
   "pygments_lexer": "ipython3",
   "version": "3.7.4"
  }
 },
 "nbformat": 4,
 "nbformat_minor": 2
}
